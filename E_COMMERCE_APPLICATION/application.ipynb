{
 "cells": [
  {
   "cell_type": "code",
   "execution_count": 22,
   "metadata": {},
   "outputs": [
    {
     "name": "stdout",
     "output_type": "stream",
     "text": [
      "Connected to MySQL Server version  8.3.0\n",
      "You're connected to database:  ('ecommerce',)\n"
     ]
    }
   ],
   "source": [
    "# Connecting to the Database in mySQL\n",
    "\n",
    "import mysql.connector\n",
    "from mysql.connector import Error\n",
    "from decimal import Decimal\n",
    "\n",
    "try:\n",
    "    connection = mysql.connector.connect(\n",
    "        host='localhost',           # Hostname (assuming a local database)\n",
    "        user='root',       # Your MySQL username (also assuming local database)\n",
    "        password='YourPassword',   # Your MySQL password (please don't steal lol)\n",
    "        database='ECOMMERCE'\n",
    "    )\n",
    "\n",
    "    if connection.is_connected():\n",
    "        db_info = connection.get_server_info()\n",
    "        print(\"Connected to MySQL Server version \", db_info)\n",
    "        cursor = connection.cursor()\n",
    "        cursor.execute(\"select database();\")\n",
    "        record = cursor.fetchone()\n",
    "        print(\"You're connected to database: \", record)\n",
    "\n",
    "except Error as error:\n",
    "    print(\"Error while connecting to MySQL\", error)\n",
    "\n"
   ]
  },
  {
   "cell_type": "code",
   "execution_count": 23,
   "metadata": {},
   "outputs": [
    {
     "name": "stdout",
     "output_type": "stream",
     "text": [
      "Error creating trigger: 1359 (HY000): Trigger already exists\n"
     ]
    }
   ],
   "source": [
    "# Trigger #1\n",
    "# This will update the inventory values for products after transactions have happened\n",
    "\n",
    "createTrigger= \"\"\"\n",
    "CREATE TRIGGER UpdateInventoryForPlacedOrders\n",
    "AFTER INSERT ON TRANSACTION_DETAIL\n",
    "FOR EACH ROW\n",
    "BEGIN\n",
    "    DECLARE inventory_count INT;\n",
    "    SELECT Available \n",
    "    INTO inventory_count \n",
    "    FROM INVENTORY WHERE \n",
    "    ProductID = NEW.ProductID;\n",
    "    IF inventory_count IS NOT NULL THEN\n",
    "        UPDATE INVENTORY \n",
    "        SET Available = inventory_count - NEW.Quantity \n",
    "        WHERE ProductID = NEW.ProductID;\n",
    "    END IF;\n",
    "END;\n",
    "\"\"\"\n",
    "\n",
    "try: \n",
    "    cursor.execute(createTrigger)\n",
    "    connection.commit()\n",
    "    print(\"Trigger 'UpdateInventoryForPlacedOrders' Successfully created!\")\n",
    "except mysql.connector.Error as error:\n",
    "    print(\"Error creating trigger:\", error)\n"
   ]
  },
  {
   "cell_type": "code",
   "execution_count": 4,
   "metadata": {},
   "outputs": [],
   "source": [
    "# This will get the list of inventory products\n",
    "InventoryListQuery = \"\"\"\n",
    "SELECT * \n",
    "FROM INVENTORY;\n",
    "\"\"\"\n",
    "\n",
    "def InventoryList():\n",
    "    try:\n",
    "        cursor.execute(InventoryListQuery)\n",
    "        \n",
    "        print(\"Inventory: \")\n",
    "        print(\"InventoryID\\tProductID\\tAvailable\")\n",
    "        for product in cursor: \n",
    "            print(f\"{product[0]}\\t\\t{product[1]}\\t\\t{product[2]}\")\n",
    "        \n",
    "        connection.commit()\n",
    "    except mysql.connector.Error as error: \n",
    "        print(\"Error fetching inventory: \", error)\n"
   ]
  },
  {
   "cell_type": "code",
   "execution_count": 30,
   "metadata": {},
   "outputs": [
    {
     "name": "stdout",
     "output_type": "stream",
     "text": [
      "Error when trying to make Procedure:  1304 (42000): PROCEDURE AddProductAndInventory already exists\n"
     ]
    }
   ],
   "source": [
    "# Procedure #1\n",
    "# This will Add products to the product an dinventory tables\n",
    "createProductProcedure = \"\"\"\n",
    "CREATE PROCEDURE AddProductAndInventory(\n",
    "    IN product_name VARCHAR(100),\n",
    "    IN description MEDIUMTEXT,\n",
    "    IN price DECIMAL(15,2),\n",
    "    IN initial_quantity INT,\n",
    "    IN product_type VARCHAR(20),\n",
    "    IN battery_type VARCHAR(100),\n",
    "    IN collectible_condition VARCHAR(100)\n",
    ")\n",
    "BEGIN\n",
    "    DECLARE product_id INT;\n",
    "\n",
    "    INSERT INTO PRODUCT (Product_name, Description, Price)\n",
    "    VALUES (product_name, description, price);\n",
    "\n",
    "    SET product_id = LAST_INSERT_ID();\n",
    "\n",
    "    INSERT INTO INVENTORY (ProductID, Available)\n",
    "    VALUES (product_id, initial_quantity);\n",
    "\n",
    "    IF product_type = 'electronic' THEN\n",
    "        INSERT INTO ELECTRONIC (ProductID, BatteryType)\n",
    "        VALUES (product_id, battery_type);\n",
    "    ELSEIF product_type = 'collectible' THEN\n",
    "        INSERT INTO COLLECTIBLE (ProductID, CollectibleCondition)\n",
    "        VALUES (product_id, collectible_condition);\n",
    "    END IF;\n",
    "END\n",
    "\"\"\"\n",
    "try: \n",
    "    cursor.execute(createProductProcedure)\n",
    "    print(\"Created AddProductAndInventory Procedure Succefully\")\n",
    "except mysql.connector.Error as error: \n",
    "    print(\"Error when trying to make Procedure: \", error)\n",
    "\n",
    "def createProduct():\n",
    "    \n",
    "    try: \n",
    "        ProductName = input(\"What is the Products Name? \")\n",
    "        description = input(\"Description of product (leave empty if not needed.): \")\n",
    "        Quantity = input(\"How many Products are you adding? \")\n",
    "        price = input(\"What is the Price of the Product? \")\n",
    "        productType = input(\"What is the product's Type Electronic/Collectible? (Leave empty if neither.)\")\n",
    "        productType = productType.lower()\n",
    "        batteryType = None\n",
    "        collectibleCondition = None\n",
    "        \n",
    "        if productType == 'electronic':\n",
    "            batteryType = input(\"What is the battery type? \")\n",
    "        elif productType == 'collectible':\n",
    "            collectibleCondition = input(\"What is the collectible's condition?\")\n",
    "    \n",
    "        cursor.callproc(\"AddProductAndInventory\", (ProductName, description, price, Quantity, productType, batteryType, collectibleCondition))\n",
    "        connection.commit()\n",
    "        print(\"Added Product Succesfully\")\n",
    "    except mysql.connector.Error as error: \n",
    "        print(\"Error when trying to add product. Aborting:  \", error)\n",
    "    "
   ]
  },
  {
   "cell_type": "code",
   "execution_count": 25,
   "metadata": {},
   "outputs": [
    {
     "name": "stdout",
     "output_type": "stream",
     "text": [
      "Error creating stored procedure: 1304 (42000): PROCEDURE UpdateInventory already exists\n"
     ]
    }
   ],
   "source": [
    "# Procedure #2\n",
    "# This will edit the inventory that we currently have\n",
    "editInvProcedure = \"\"\"\n",
    "CREATE PROCEDURE UpdateInventory(\n",
    "    IN productId INT,\n",
    "    IN quantityChange INT\n",
    ")\n",
    "BEGIN\n",
    "    UPDATE INVENTORY\n",
    "    SET Available = Available + quantityChange\n",
    "    WHERE ProductID = productId;\n",
    "END\n",
    "\"\"\"\n",
    "\n",
    "try:\n",
    "    cursor.execute(editInvProcedure)\n",
    "    print(\"Stored procedure 'UpdateInventory' created successfully.\")\n",
    "except mysql.connector.Error as error:\n",
    "    print(\"Error creating stored procedure:\", error)\n",
    "\n",
    "def editInventoryProd():\n",
    "    try:\n",
    "        productID = int(input(\"Enter the Product ID: \"))\n",
    "        change = int(input(\"Enter the quantity change (+ for increase, - for decrease): \"))\n",
    "        cursor.callproc(\"UpdateInventory\", (productID, change))\n",
    "        connection.commit()\n",
    "        print(\"Inventory updated successfully!\")\n",
    "    except ValueError:\n",
    "        print(\"Invalid input. Please enter valid Product ID and quantity change.\")\n",
    "    except mysql.connector.Error as error:\n",
    "        print(\"Error updating inventory:\", error)\n",
    "        connection.rollback()\n",
    "    "
   ]
  },
  {
   "cell_type": "code",
   "execution_count": 16,
   "metadata": {},
   "outputs": [
    {
     "ename": "SyntaxError",
     "evalue": "incomplete input (1842076069.py, line 2)",
     "output_type": "error",
     "traceback": [
      "\u001b[0;36m  Cell \u001b[0;32mIn[16], line 2\u001b[0;36m\u001b[0m\n\u001b[0;31m    \u001b[0m\n\u001b[0m    ^\u001b[0m\n\u001b[0;31mSyntaxError\u001b[0m\u001b[0;31m:\u001b[0m incomplete input\n"
     ]
    }
   ],
   "source": [
    "\n",
    "\n",
    "def deleteProd():\n",
    "    "
   ]
  },
  {
   "cell_type": "code",
   "execution_count": null,
   "metadata": {},
   "outputs": [],
   "source": [
    "\n",
    "\n",
    "def getMostPop():\n",
    "    "
   ]
  },
  {
   "cell_type": "code",
   "execution_count": null,
   "metadata": {},
   "outputs": [],
   "source": [
    "\n",
    "\n",
    "def getLeastPop():\n",
    "    "
   ]
  },
  {
   "cell_type": "code",
   "execution_count": 26,
   "metadata": {},
   "outputs": [],
   "source": [
    "# This will get Users that have not have anything in their Order History from the Last three months\n",
    "AfkQuery = \"\"\"\n",
    "SELECT DISTINCT UserID, UserName, Email\n",
    "FROM USERS\n",
    "WHERE UserID NOT IN(\n",
    "    SELECT DISTINCT UserID\n",
    "    FROM ORDER_HISTORY\n",
    "    WHERE OrderDate >= DATE_SUB(NOW(), INTERVAL 3 MONTH)\n",
    ")\n",
    "\"\"\"\n",
    "\n",
    "def getAfkUsers():\n",
    "    try:\n",
    "        cursor.execute(AfkQuery)\n",
    "        print(\"Users to send Promotional Emails to. \")\n",
    "        print(\"UserID\\t\\tUserName\\t\\t\\tEmail\")\n",
    "        for users in cursor:\n",
    "            print(f\"{users[0]}\\t\\t{users[1]}\\t\\t\\t{users[2]}\")\n",
    "            \n",
    "        connection.commit()\n",
    "    except mysql.connector.Error as error:\n",
    "        print(\"Error when trying to find Users to send Promos to :\", error)"
   ]
  },
  {
   "cell_type": "code",
   "execution_count": 27,
   "metadata": {},
   "outputs": [],
   "source": [
    "#This will create a new transaction\n",
    "\n",
    "def createNewTransaction():\n",
    "    try: \n",
    "        OrderTotal = 0\n",
    "        userID = int(input(\"What is the Users ID? \"))\n",
    "        orderDate = input(\"Enter the Order Date (YYYY-MM-DD):\" )\n",
    "        orderStatus = input(\"What is the Order Status? (Delivered, Cancelled, Processing, Shipped)\")\n",
    "        DistinctProductCount = int(input(\"How many distinct products are you buying? \"))\n",
    "        distintProducts = []\n",
    "        \n",
    "        for index in range(DistinctProductCount):\n",
    "            productid = int(input(f\" Product ID for product {index + 1}: \"))\n",
    "            Quantity = int(input(f\"Quantity for product {index+1}: \"))\n",
    "            distintProducts.append((productid, Quantity))\n",
    "        \n",
    "        for productid, quantity in distintProducts:\n",
    "            cursor.execute(f\"\"\"\n",
    "                           SELECT Price\n",
    "                           FROM PRODUCT\n",
    "                           WHERE ProductID = {productid}\n",
    "                           \"\"\")\n",
    "            price = cursor.fetchone()[0]\n",
    "            if isinstance(price, Decimal):\n",
    "                purchaseTotal = price * quantity\n",
    "            else:\n",
    "                price = Decimal(price)\n",
    "                purchaseTotal = price * Quantity\n",
    "            OrderTotal += purchaseTotal\n",
    "            \n",
    "        orderQuery = \"\"\"\n",
    "            INSERT INTO ORDER_HISTORY (UserID, OrderDate, OrderStatus, OrderTotal)\n",
    "            VALUES (%s, %s, %s, %s)\n",
    "            \"\"\"\n",
    "        orderValues = (userID, orderDate, orderStatus, OrderTotal)\n",
    "        cursor.execute(orderQuery, orderValues)\n",
    "        orderID = cursor.lastrowid\n",
    "        \n",
    "        transactionQuery = \"\"\"\n",
    "            INSERT INTO TRANSACTIONS (OrderID, UserID, PurchaseAmount, TransactionDate)\n",
    "            VALUES (%s, %s, %s, %s)\n",
    "            \"\"\"\n",
    "        transactionValues = (orderID, userID, OrderTotal, orderDate)\n",
    "        cursor.execute(transactionQuery, transactionValues)\n",
    "        transactionID = cursor.lastrowid\n",
    "        \n",
    "        for productid, Quantity in distintProducts:\n",
    "            cursor.execute(f\"\"\"\n",
    "                    SELECT Price\n",
    "                    FROM PRODUCT\n",
    "                    WHERE ProductID = {productid}\n",
    "                \"\"\")\n",
    "            price = cursor.fetchone()[0]\n",
    "            if isinstance(price, Decimal):\n",
    "                purchaseTotal = price * Quantity\n",
    "            else:\n",
    "                price = Decimal(price)\n",
    "                purchaseTotal = price * Quantity\n",
    "        \n",
    "            productQuery = f\"\"\"\n",
    "            INSERT INTO TRANSACTION_DETAIL (TransactionID, ProductID, Quantity, PurchaseTotal)\n",
    "            VALUES {(transactionID, productid, Quantity, str(price * Quantity) )}\n",
    "            \"\"\"\n",
    "            cursor.execute(productQuery)\n",
    "        \n",
    "        \n",
    "        connection.commit()\n",
    "        print(\"Transaction Created Successfully!\")\n",
    "            \n",
    "    \n",
    "            \n",
    "    except mysql.connector.Error as error: \n",
    "        print(\"Error Creating the Transaction: \", error)\n",
    "    "
   ]
  },
  {
   "cell_type": "code",
   "execution_count": null,
   "metadata": {},
   "outputs": [
    {
     "name": "stdout",
     "output_type": "stream",
     "text": [
      "Stored procedure AddProductAndInventory deleted successfully.\n"
     ]
    }
   ],
   "source": []
  },
  {
   "cell_type": "code",
   "execution_count": null,
   "metadata": {},
   "outputs": [],
   "source": []
  },
  {
   "cell_type": "code",
   "execution_count": 29,
   "metadata": {},
   "outputs": [
    {
     "name": "stdout",
     "output_type": "stream",
     "text": [
      "\n",
      "Console Menu\n",
      "0. Exit\n",
      "1. Products Currently in Inventory.\n",
      "2. Create New Product.\n",
      "3. Modify a Product in Inventory\n",
      "4. Delete a Product from Inventory.\n",
      "5. Get Most Popular Products from the given time range.\n",
      "6. Get Least Popular Products from the given time range.\n",
      "7. Send Promotional Emails to unactive Users.\n",
      "8. Create Transaction\n",
      "9. TBD\n",
      "Creating Transaction.\n",
      "Transaction Created Successfully!\n",
      "\n",
      "Console Menu\n",
      "0. Exit\n",
      "1. Products Currently in Inventory.\n",
      "2. Create New Product.\n",
      "3. Modify a Product in Inventory\n",
      "4. Delete a Product from Inventory.\n",
      "5. Get Most Popular Products from the given time range.\n",
      "6. Get Least Popular Products from the given time range.\n",
      "7. Send Promotional Emails to unactive Users.\n",
      "8. Create Transaction\n",
      "9. TBD\n",
      "\n",
      "Exiting.\n"
     ]
    }
   ],
   "source": [
    "#Console menu function\n",
    "def mainMenu():\n",
    "    while True: \n",
    "        print(\"\\nConsole Menu\")\n",
    "        print(\"0. Exit\")\n",
    "        print(\"1. Products Currently in Inventory.\")\n",
    "        print(\"2. Create New Product.\")\n",
    "        print(\"3. Modify a Product in Inventory\")\n",
    "        print(\"4. Delete a Product from Inventory.\")\n",
    "        print(\"5. Get Most Popular Products from the given time range.\")\n",
    "        print(\"6. Get Least Popular Products from the given time range.\")\n",
    "        print(\"7. Send Promotional Emails to unactive Users.\")\n",
    "        print(\"8. Create Transaction\")\n",
    "        print(\"9. TBD\")\n",
    "        \n",
    "        choice = input(\"Enter your choice: \")\n",
    "        match choice: \n",
    "            case '0': \n",
    "                print(\"\\nExiting.\")\n",
    "                return\n",
    "            case '1':\n",
    "                print(\"\\nProducts currently in Inventory are: \")\n",
    "                InventoryList()\n",
    "            case '2':\n",
    "                print(\"\\nAdding Product\")\n",
    "                createProduct()\n",
    "            case '3':\n",
    "                print(\"\\nEditing Inventory.\")\n",
    "                editInventoryProd()\n",
    "            case '4': \n",
    "                print(\"\")\n",
    "                deleteProd()\n",
    "            case '5':\n",
    "                print(\"\")\n",
    "                getMostPop()\n",
    "            case '6': \n",
    "                print(\"\")\n",
    "                getLeastPop()\n",
    "            case '7': \n",
    "                print(\"Getting non Active Users.\")\n",
    "                getAfkUsers()\n",
    "            case '8': \n",
    "                print(\"Creating Transaction.\")\n",
    "                createNewTransaction()\n",
    "            case '9':\n",
    "                print(\"\")\n",
    "            case _:\n",
    "                print(\"\\nPlease enter a digit 0-9.\")\n",
    "            \n",
    "mainMenu() \n"
   ]
  },
  {
   "cell_type": "code",
   "execution_count": 20,
   "metadata": {},
   "outputs": [],
   "source": []
  },
  {
   "cell_type": "markdown",
   "metadata": {},
   "source": []
  },
  {
   "cell_type": "code",
   "execution_count": 11,
   "metadata": {},
   "outputs": [
    {
     "name": "stdout",
     "output_type": "stream",
     "text": [
      "MySQL connection is closed\n"
     ]
    }
   ],
   "source": [
    "# Closing the connection to the database \n",
    "\n",
    "if connection.is_connected():\n",
    "        cursor.close()\n",
    "        connection.close()\n",
    "        print(\"MySQL connection is closed\")"
   ]
  }
 ],
 "metadata": {
  "kernelspec": {
   "display_name": "base",
   "language": "python",
   "name": "python3"
  },
  "language_info": {
   "codemirror_mode": {
    "name": "ipython",
    "version": 3
   },
   "file_extension": ".py",
   "mimetype": "text/x-python",
   "name": "python",
   "nbconvert_exporter": "python",
   "pygments_lexer": "ipython3",
   "version": "3.11.4"
  },
  "orig_nbformat": 4
 },
 "nbformat": 4,
 "nbformat_minor": 2
}
