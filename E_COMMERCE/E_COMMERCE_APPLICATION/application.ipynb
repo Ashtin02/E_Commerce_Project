{
 "cells": [
  {
   "cell_type": "code",
   "execution_count": 11,
   "metadata": {},
   "outputs": [
    {
     "name": "stdout",
     "output_type": "stream",
     "text": [
      "Error while connecting to MySQL 1045 (28000): Access denied for user 'root'@'localhost' (using password: YES)\n"
     ]
    }
   ],
   "source": [
    "# Connecting to the Database in mySQL\n",
    "import mysql.connector\n",
    "from mysql.connector import Error\n",
    "\n",
    "try:\n",
    "    # Establish the connection\n",
    "    connection = mysql.connector.connect(\n",
    "        host='localhost',           # Hostname (assuming a local database)\n",
    "        user='root',       # MySQL username\n",
    "        password='your_password',   # MySQL password (please don't steal lol)\n",
    "        database='ECOMMERCE' # Name of the database you created\n",
    "    )\n",
    "\n",
    "    if connection.is_connected():\n",
    "        db_info = connection.get_server_info()\n",
    "        print(\"Connected to MySQL Server version \", db_info)\n",
    "        cursor = connection.cursor(buffered=True)\n",
    "        cursor.execute(\"select database();\")\n",
    "        record = cursor.fetchone()\n",
    "        print(\"You're connected to database: \", record)\n",
    "\n",
    "except Error as e:\n",
    "    print(\"Error while connecting to MySQL\", e)\n",
    "\n"
   ]
  },
  {
   "cell_type": "code",
   "execution_count": 12,
   "metadata": {},
   "outputs": [
    {
     "name": "stdout",
     "output_type": "stream",
     "text": [
      "Trigger 'UpdateInventoryForPlacedOrders\n"
     ]
    }
   ],
   "source": [
    "# Trigger #1\n",
    "createTrigger= \"\"\"\n",
    "CREATE TRIGGER update_inventory_after_transaction_insert\n",
    "AFTER INSERT ON TRANSACTION_DETAIL\n",
    "FOR EACH ROW\n",
    "BEGIN\n",
    "    DECLARE inventory_count INT;\n",
    "    SELECT Available INTO inventory_count FROM INVENTORY WHERE ProductID = NEW.ProductID;\n",
    "    IF inventory_count IS NOT NULL THEN\n",
    "        UPDATE INVENTORY SET Available = inventory_count - NEW.Quantity WHERE ProductID = NEW.ProductID;\n",
    "    END IF;\n",
    "END;\n",
    "\"\"\"\n",
    "\n",
    "try: \n",
    "    cursor.execute(createTrigger)\n",
    "    print(\"Trigger 'UpdateInventoryForPlacedOrders\")\n",
    "except mysql.connector.Error as error:\n",
    "    print(\"Error creating trigger:\", error)\n"
   ]
  },
  {
   "cell_type": "code",
   "execution_count": 13,
   "metadata": {},
   "outputs": [],
   "source": [
    "InventoryListQuery = \"\"\"\n",
    "SELECT * \n",
    "FROM INVENTORY;\n",
    "\"\"\"\n",
    "\n",
    "def InventoryList():\n",
    "    try:\n",
    "        cursor.execute(InventoryListQuery)\n",
    "        \n",
    "        print(\"Inventory: \")\n",
    "        print(\"InventoryID\\tProductID\\tAvailable\")\n",
    "        for product in cursor: \n",
    "            print(f\"{product[0]}\\t\\t{product[1]}\\t\\t{product[2]}\")\n",
    "        \n",
    "    except mysql.connector.Error as error: \n",
    "        print(\"Error fetching inventory: \", error)\n"
   ]
  },
  {
   "cell_type": "code",
   "execution_count": 14,
   "metadata": {},
   "outputs": [
    {
     "name": "stdout",
     "output_type": "stream",
     "text": [
      "Error when trying to make Procedure:  1304 (42000): PROCEDURE AddProductAndInventory already exists\n"
     ]
    }
   ],
   "source": [
    "# Procedure #1\n",
    "createProductProcedure = \"\"\"\n",
    "CREATE PROCEDURE AddProductAndInventory(\n",
    "    IN product_name VARCHAR(100),\n",
    "    IN description MEDIUMTEXT,\n",
    "    IN price DECIMAL(15,2),\n",
    "    IN initial_quantity INT,\n",
    "    IN product_type VARCHAR(20),\n",
    "    IN battery_type VARCHAR(100),\n",
    "    IN collectible_condition VARCHAR(100)\n",
    ")\n",
    "BEGIN\n",
    "    DECLARE product_id INT;\n",
    "\n",
    "    -- Insert into PRODUCT table\n",
    "    INSERT INTO PRODUCT (Product_name, Description, Price)\n",
    "    VALUES (product_name, description, price);\n",
    "\n",
    "    -- Get the last inserted ProductID\n",
    "    SET product_id = LAST_INSERT_ID();\n",
    "\n",
    "    -- Insert into INVENTORY table\n",
    "    INSERT INTO INVENTORY (ProductID, Available)\n",
    "    VALUES (product_id, initial_quantity);\n",
    "\n",
    "    -- Insert into subclass table based on product type\n",
    "    IF product_type = 'electronic' THEN\n",
    "        INSERT INTO ELECTRONIC (ProductID, BatteryType)\n",
    "        VALUES (product_id, battery_type);\n",
    "    ELSEIF product_type = 'collectible' THEN\n",
    "        INSERT INTO COLLECTIBLE (ProductID, CollectibleCondition)\n",
    "        VALUES (product_id, collectible_condition);\n",
    "    END IF;\n",
    "END\n",
    "\"\"\"\n",
    "try: \n",
    "    cursor.execute(createProductProcedure)\n",
    "    print(\"Created AddProductAndInventory Procedure Succefully\")\n",
    "except mysql.connector.Error as error: \n",
    "    print(\"Error when trying to make Procedure: \", error)\n",
    "\n",
    "def createProduct():\n",
    "    \n",
    "    try: \n",
    "        ProductName = input(\"What is the Products Name? \")\n",
    "        description = input(\"Description of product (leave empty if not needed.): \")\n",
    "        Quantity = input(\"How many Products are you adding? \")\n",
    "        price = input(\"What is the Price of the Product? \")\n",
    "        productType = input(\"What is the product's Type Electronic/Collectible? (Leave empty if neither.)\")\n",
    "        productType = productType.lower()\n",
    "        batteryType = None\n",
    "        collectibleCondition = None\n",
    "        \n",
    "        if productType == 'electronic':\n",
    "            batteryType = input(\"What is the battery type? \")\n",
    "        elif productType == 'collectible':\n",
    "            collectibleCondition = input(\"What is the collectible's condition?\")\n",
    "    \n",
    "        cursor.callproc(\"AddProductAndInventory\", (ProductName, description, price, Quantity, productType, batteryType, collectibleCondition))\n",
    "        connection.commit()\n",
    "        print(\"Added Product Succesfully\")\n",
    "    except mysql.connector.Error as error: \n",
    "        print(\"Error when trying to add product. Aborting:  \", error)\n",
    "    "
   ]
  },
  {
   "cell_type": "code",
   "execution_count": 15,
   "metadata": {},
   "outputs": [
    {
     "name": "stdout",
     "output_type": "stream",
     "text": [
      "Stored procedure 'UpdateInventory' created successfully.\n"
     ]
    }
   ],
   "source": [
    "# Procedure #2\n",
    "editInvProcedure = \"\"\"\n",
    "CREATE PROCEDURE UpdateInventory(\n",
    "    IN productId INT,\n",
    "    IN quantityChange INT\n",
    ")\n",
    "BEGIN\n",
    "    UPDATE INVENTORY\n",
    "    SET Available = Available + quantityChange\n",
    "    WHERE ProductID = productId;\n",
    "END\n",
    "\"\"\"\n",
    "\n",
    "try:\n",
    "    cursor.execute(editInvProcedure)\n",
    "    print(\"Stored procedure 'UpdateInventory' created successfully.\")\n",
    "except mysql.connector.Error as error:\n",
    "    print(\"Error creating stored procedure:\", error)\n",
    "\n",
    "def editInventoryProd():\n",
    "    try:\n",
    "        productID = int(input(\"Enter the Product ID: \"))\n",
    "        change = int(input(\"Enter the quantity change (+ for increase, - for decrease): \"))\n",
    "        cursor.callproc(\"UpdateInventory\", (productID, change))\n",
    "        connection.commit()\n",
    "        print(\"Inventory updated successfully!\")\n",
    "    except ValueError:\n",
    "        print(\"Invalid input. Please enter valid Product ID and quantity change.\")\n",
    "    except mysql.connector.Error as error:\n",
    "        print(\"Error updating inventory:\", error)\n",
    "        connection.rollback()\n",
    "    "
   ]
  },
  {
   "cell_type": "code",
   "execution_count": 16,
   "metadata": {},
   "outputs": [
    {
     "ename": "SyntaxError",
     "evalue": "incomplete input (1842076069.py, line 2)",
     "output_type": "error",
     "traceback": [
      "\u001b[0;36m  Cell \u001b[0;32mIn[16], line 2\u001b[0;36m\u001b[0m\n\u001b[0;31m    \u001b[0m\n\u001b[0m    ^\u001b[0m\n\u001b[0;31mSyntaxError\u001b[0m\u001b[0;31m:\u001b[0m incomplete input\n"
     ]
    }
   ],
   "source": [
    "\n",
    "\n",
    "def deleteProd():\n",
    "    "
   ]
  },
  {
   "cell_type": "code",
   "execution_count": null,
   "metadata": {},
   "outputs": [],
   "source": [
    "\n",
    "\n",
    "def getMostPop():\n",
    "    "
   ]
  },
  {
   "cell_type": "code",
   "execution_count": null,
   "metadata": {},
   "outputs": [],
   "source": [
    "\n",
    "\n",
    "def getLeastPop():\n",
    "    "
   ]
  },
  {
   "cell_type": "code",
   "execution_count": null,
   "metadata": {},
   "outputs": [],
   "source": [
    "\n",
    "\n",
    "def getAfkUsers():\n",
    "    "
   ]
  },
  {
   "cell_type": "code",
   "execution_count": null,
   "metadata": {},
   "outputs": [],
   "source": [
    "def createNewTransaction():\n",
    "    "
   ]
  },
  {
   "cell_type": "code",
   "execution_count": null,
   "metadata": {},
   "outputs": [
    {
     "name": "stdout",
     "output_type": "stream",
     "text": [
      "Stored procedure AddProductAndInventory deleted successfully.\n"
     ]
    }
   ],
   "source": [
    "\n",
    "# try:\n",
    "\n",
    "#         # SQL command to drop the stored procedure\n",
    "#         drop_procedure_query = f\"DROP PROCEDURE IF EXISTS AddProductAndInventory\"\n",
    "\n",
    "#         # Execute the SQL command to drop the stored procedure\n",
    "#         cursor.execute(drop_procedure_query)\n",
    "#         print(f\"Stored procedure AddProductAndInventory deleted successfully.\")\n",
    "# except mysql.connector.Error as error:\n",
    "#         print(f\"Error deleting stored procedure: {error}\")\n",
    "    "
   ]
  },
  {
   "cell_type": "code",
   "execution_count": null,
   "metadata": {},
   "outputs": [],
   "source": []
  },
  {
   "cell_type": "code",
   "execution_count": 17,
   "metadata": {},
   "outputs": [
    {
     "name": "stdout",
     "output_type": "stream",
     "text": [
      "\n",
      "Console Menu\n",
      "0. Exit\n",
      "1. Products Currently in Inventory.\n",
      "2. Create New Product.\n",
      "3. Modify a Product in Inventory\n",
      "4. Delete a Product from Inventory.\n",
      "5. Get Most Popular Products from the given time range.\n",
      "6. Get Least Popular Products from the given time range.\n",
      "7. Send Promotional Emails to unactive Users.\n",
      "8. Create Transaction\n",
      "9. TBD\n",
      "\n",
      "Products currently in Inventory are: \n",
      "Inventory: \n",
      "InventoryID\tProductID\tAvailable\n",
      "1\t\t1\t\t12\n",
      "990000\t\t10000\t\t10\n",
      "990001\t\t10001\t\t46\n",
      "990002\t\t10002\t\t1\n",
      "990003\t\t10003\t\t4\n",
      "990004\t\t10004\t\t39\n",
      "990005\t\t10005\t\t84\n",
      "990006\t\t20000\t\t9\n",
      "990007\t\t20001\t\t10\n",
      "990008\t\t20002\t\t13\n",
      "990009\t\t30000\t\t5\n",
      "990010\t\t30001\t\t3\n",
      "990011\t\t30002\t\t72\n",
      "\n",
      "Console Menu\n",
      "0. Exit\n",
      "1. Products Currently in Inventory.\n",
      "2. Create New Product.\n",
      "3. Modify a Product in Inventory\n",
      "4. Delete a Product from Inventory.\n",
      "5. Get Most Popular Products from the given time range.\n",
      "6. Get Least Popular Products from the given time range.\n",
      "7. Send Promotional Emails to unactive Users.\n",
      "8. Create Transaction\n",
      "9. TBD\n",
      "\n",
      "Products currently in Inventory are: \n",
      "Inventory: \n",
      "InventoryID\tProductID\tAvailable\n",
      "1\t\t1\t\t12\n",
      "990000\t\t10000\t\t10\n",
      "990001\t\t10001\t\t46\n",
      "990002\t\t10002\t\t1\n",
      "990003\t\t10003\t\t4\n",
      "990004\t\t10004\t\t39\n",
      "990005\t\t10005\t\t84\n",
      "990006\t\t20000\t\t9\n",
      "990007\t\t20001\t\t10\n",
      "990008\t\t20002\t\t13\n",
      "990009\t\t30000\t\t5\n",
      "990010\t\t30001\t\t3\n",
      "990011\t\t30002\t\t72\n",
      "\n",
      "Console Menu\n",
      "0. Exit\n",
      "1. Products Currently in Inventory.\n",
      "2. Create New Product.\n",
      "3. Modify a Product in Inventory\n",
      "4. Delete a Product from Inventory.\n",
      "5. Get Most Popular Products from the given time range.\n",
      "6. Get Least Popular Products from the given time range.\n",
      "7. Send Promotional Emails to unactive Users.\n",
      "8. Create Transaction\n",
      "9. TBD\n",
      "\n",
      "Editing Inventory.\n",
      "Inventory updated successfully!\n",
      "\n",
      "Console Menu\n",
      "0. Exit\n",
      "1. Products Currently in Inventory.\n",
      "2. Create New Product.\n",
      "3. Modify a Product in Inventory\n",
      "4. Delete a Product from Inventory.\n",
      "5. Get Most Popular Products from the given time range.\n",
      "6. Get Least Popular Products from the given time range.\n",
      "7. Send Promotional Emails to unactive Users.\n",
      "8. Create Transaction\n",
      "9. TBD\n",
      "\n",
      "Exiting.\n"
     ]
    }
   ],
   "source": [
    "#Console menu function\n",
    "def mainMenu():\n",
    "    while True: \n",
    "        print(\"\\nConsole Menu\")\n",
    "        print(\"0. Exit\")\n",
    "        print(\"1. Products Currently in Inventory.\")\n",
    "        print(\"2. Create New Product.\")\n",
    "        print(\"3. Modify a Product in Inventory\")\n",
    "        print(\"4. Delete a Product from Inventory.\")\n",
    "        print(\"5. Get Most Popular Products from the given time range.\")\n",
    "        print(\"6. Get Least Popular Products from the given time range.\")\n",
    "        print(\"7. Send Promotional Emails to unactive Users.\")\n",
    "        print(\"8. Create Transaction\")\n",
    "        print(\"9. TBD\")\n",
    "        \n",
    "        choice = input(\"Enter your choice: \")\n",
    "        match choice: \n",
    "            case '0': \n",
    "                print(\"\\nExiting.\")\n",
    "                return\n",
    "            case '1':\n",
    "                print(\"\\nProducts currently in Inventory are: \")\n",
    "                InventoryList()\n",
    "            case '2':\n",
    "                print(\"\\nAdding Product\")\n",
    "                createProduct()\n",
    "            case '3':\n",
    "                print(\"\\nEditing Inventory.\")\n",
    "                editInventoryProd()\n",
    "            case '4': \n",
    "                print(\"\")\n",
    "                deleteProd()\n",
    "            case '5':\n",
    "                print(\"\")\n",
    "                getMostPop()\n",
    "            case '6': \n",
    "                print(\"\")\n",
    "                getLeastPop()\n",
    "            case '7': \n",
    "                print(\"\")\n",
    "                getAfkUsers()\n",
    "            case '8': \n",
    "                print(\"\")\n",
    "            case '9':\n",
    "                print(\"\")\n",
    "            case _:\n",
    "                print(\"\\nPlease enter a digit 0-9.\")\n",
    "            \n",
    "mainMenu() \n"
   ]
  },
  {
   "cell_type": "code",
   "execution_count": null,
   "metadata": {},
   "outputs": [
    {
     "name": "stdout",
     "output_type": "stream",
     "text": [
      "MySQL connection is closed\n"
     ]
    }
   ],
   "source": [
    "# Closing the connection to the database \n",
    "\n",
    "if connection.is_connected():\n",
    "        cursor.close()\n",
    "        connection.close()\n",
    "        print(\"MySQL connection is closed\")"
   ]
  }
 ],
 "metadata": {
  "kernelspec": {
   "display_name": "base",
   "language": "python",
   "name": "python3"
  },
  "language_info": {
   "codemirror_mode": {
    "name": "ipython",
    "version": 3
   },
   "file_extension": ".py",
   "mimetype": "text/x-python",
   "name": "python",
   "nbconvert_exporter": "python",
   "pygments_lexer": "ipython3",
   "version": "3.11.4"
  },
  "orig_nbformat": 4
 },
 "nbformat": 4,
 "nbformat_minor": 2
}
